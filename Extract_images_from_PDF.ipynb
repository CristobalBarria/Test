{
  "nbformat": 4,
  "nbformat_minor": 0,
  "metadata": {
    "colab": {
      "name": "Extract_images_from_PDF.ipynb",
      "provenance": [],
      "mount_file_id": "1Cmzmthz0uG67fJg7L2CXJXQc6plHygih",
      "authorship_tag": "ABX9TyOkxk3bmZOxDLHxxWjui5pq",
      "include_colab_link": true
    },
    "kernelspec": {
      "name": "python3",
      "display_name": "Python 3"
    },
    "language_info": {
      "name": "python"
    }
  },
  "cells": [
    {
      "cell_type": "markdown",
      "metadata": {
        "id": "view-in-github",
        "colab_type": "text"
      },
      "source": [
        "<a href=\"https://colab.research.google.com/github/CristobalBarria/Test/blob/main/Extract_images_from_PDF.ipynb\" target=\"_parent\"><img src=\"https://colab.research.google.com/assets/colab-badge.svg\" alt=\"Open In Colab\"/></a>"
      ]
    },
    {
      "cell_type": "code",
      "metadata": {
        "colab": {
          "base_uri": "https://localhost:8080/"
        },
        "id": "z02HweA1pQKY",
        "outputId": "eb54d2da-2404-4542-fc5d-b6132224895e"
      },
      "source": [
        "#Extract from https://stackoverflow.com/questions/65114850/python-image-extraction-sequence-from-pdf\n",
        "pip install PyMuPDF Pillow"
      ],
      "execution_count": null,
      "outputs": [
        {
          "output_type": "stream",
          "name": "stdout",
          "text": [
            "Requirement already satisfied: PyMuPDF in /usr/local/lib/python3.7/dist-packages (1.19.1)\n",
            "Requirement already satisfied: Pillow in /usr/local/lib/python3.7/dist-packages (7.1.2)\n"
          ]
        }
      ]
    },
    {
      "cell_type": "code",
      "metadata": {
        "id": "bkN8Lb4wqRtc"
      },
      "source": [
        "# STEP 1\n",
        "# import libraries\n",
        "import fitz\n",
        "import io\n",
        "from PIL import Image\n"
      ],
      "execution_count": null,
      "outputs": []
    },
    {
      "cell_type": "code",
      "metadata": {
        "id": "ulAuD_xgrBUJ",
        "colab": {
          "base_uri": "https://localhost:8080/"
        },
        "outputId": "ba934e95-4fa1-49c3-8a6a-8ed124163857"
      },
      "source": [
        "# STEP 2\n",
        "# file path you want to extract images from\n",
        "file = \"/content/Sources/FINAL THESE 2021.pdf\"\n",
        "pdf_file = fitz.open(file)"
      ],
      "execution_count": null,
      "outputs": [
        {
          "output_type": "stream",
          "name": "stderr",
          "text": [
            "mupdf: cannot find startxref\n"
          ]
        }
      ]
    },
    {
      "cell_type": "code",
      "metadata": {
        "colab": {
          "base_uri": "https://localhost:8080/"
        },
        "id": "2llIEHt_tZ7T",
        "outputId": "d1c9643f-819e-48e7-c69b-2e84a7b8c0bd"
      },
      "source": [
        "for page_index in range(len(pdf_file)):\n",
        "    # get the page itself\n",
        "    page = pdf_file[page_index]\n",
        "    image_list = page.getImageList()\n",
        "    # printing number of images found in this page\n",
        "    if image_list:\n",
        "        print(f\"[+] Found  {len(image_list)} images in page {page_index}\")\n",
        "    else:\n",
        "        print(\"[!] No images found on the given pdf page\", page_index)\n",
        "    for image_index, img in enumerate(page.getImageList(), start=1):\n",
        "        print(img)\n",
        "        print(image_index)\n",
        "        # get the XREF of the image\n",
        "        xref = img[0]\n",
        "        # extract the image bytes\n",
        "        base_image = pdf_file.extractImage(xref)\n",
        "        image_bytes = base_image[\"image\"]\n",
        "        # get the image extension\n",
        "        image_ext = base_image[\"ext\"]\n",
        "        # load it to PIL\n",
        "        image = Image.open(io.BytesIO(image_bytes))\n",
        "        # save it to local disk\n",
        "        image.save(open(f\"/content/Images/image{page_index+1}_{image_index}.{image_ext}\", \"wb\"))"
      ],
      "execution_count": null,
      "outputs": [
        {
          "output_type": "stream",
          "name": "stderr",
          "text": [
            "Deprecation: 'getImageList' removed from class 'Page' after v1.19.0 - use 'get_images'.\n",
            "Deprecation: 'extractImage' removed from class 'Document' after v1.19.0 - use 'extract_image'.\n"
          ]
        },
        {
          "output_type": "stream",
          "name": "stdout",
          "text": [
            "[+] Found  1 images in page 0\n",
            "(7, 16, 2300, 843, 8, 'ICCBased', '', 'Im1', 'FlateDecode')\n",
            "1\n",
            "[+] Found  1 images in page 1\n",
            "(7, 16, 2300, 843, 8, 'ICCBased', '', 'Im1', 'FlateDecode')\n",
            "1\n",
            "[+] Found  1 images in page 2\n",
            "(7, 16, 2300, 843, 8, 'ICCBased', '', 'Im1', 'FlateDecode')\n",
            "1\n",
            "[+] Found  1 images in page 3\n",
            "(7, 16, 2300, 843, 8, 'ICCBased', '', 'Im1', 'FlateDecode')\n",
            "1\n",
            "[+] Found  3 images in page 4\n",
            "(41, 0, 145, 214, 8, 'ICCBased', '', 'Im3', 'FlateDecode')\n",
            "1\n",
            "(7, 16, 2300, 843, 8, 'ICCBased', '', 'Im1', 'FlateDecode')\n",
            "2\n",
            "(39, 0, 640, 480, 8, 'ICCBased', '', 'Im2', 'FlateDecode')\n",
            "3\n",
            "[+] Found  4 images in page 5\n",
            "(51, 56, 75, 70, 8, 'ICCBased', '', 'Im6', 'FlateDecode')\n",
            "1\n",
            "(49, 54, 228, 320, 8, 'ICCBased', '', 'Im5', 'FlateDecode')\n",
            "2\n",
            "(7, 16, 2300, 843, 8, 'ICCBased', '', 'Im1', 'FlateDecode')\n",
            "3\n",
            "(47, 58, 74, 70, 8, 'ICCBased', '', 'Im4', 'FlateDecode')\n",
            "4\n",
            "[+] Found  3 images in page 6\n",
            "(66, 0, 360, 250, 8, 'ICCBased', '', 'Im8', 'FlateDecode')\n",
            "1\n",
            "(7, 16, 2300, 843, 8, 'ICCBased', '', 'Im1', 'FlateDecode')\n",
            "2\n",
            "(64, 0, 228, 320, 8, 'ICCBased', '', 'Im7', 'FlateDecode')\n",
            "3\n",
            "[+] Found  1 images in page 7\n",
            "(7, 16, 2300, 843, 8, 'ICCBased', '', 'Im1', 'FlateDecode')\n",
            "1\n",
            "[+] Found  1 images in page 8\n",
            "(7, 16, 2300, 843, 8, 'ICCBased', '', 'Im1', 'FlateDecode')\n",
            "1\n",
            "[+] Found  1 images in page 9\n",
            "(7, 16, 2300, 843, 8, 'ICCBased', '', 'Im1', 'FlateDecode')\n",
            "1\n",
            "[+] Found  1 images in page 10\n",
            "(7, 16, 2300, 843, 8, 'ICCBased', '', 'Im1', 'FlateDecode')\n",
            "1\n",
            "[+] Found  1 images in page 11\n",
            "(7, 16, 2300, 843, 8, 'ICCBased', '', 'Im1', 'FlateDecode')\n",
            "1\n",
            "[+] Found  1 images in page 12\n",
            "(7, 16, 2300, 843, 8, 'ICCBased', '', 'Im1', 'FlateDecode')\n",
            "1\n",
            "[+] Found  1 images in page 13\n",
            "(7, 16, 2300, 843, 8, 'ICCBased', '', 'Im1', 'FlateDecode')\n",
            "1\n"
          ]
        }
      ]
    },
    {
      "cell_type": "code",
      "metadata": {
        "colab": {
          "base_uri": "https://localhost:8080/"
        },
        "id": "o4PaJlA66Xsw",
        "outputId": "75073d7b-d430-404c-de45-dda18df63180"
      },
      "source": [
        "!zip -r /content/Images_To_Zip/Images.zip Images/"
      ],
      "execution_count": null,
      "outputs": [
        {
          "output_type": "stream",
          "name": "stdout",
          "text": [
            "  adding: Images/ (stored 0%)\n",
            "  adding: Images/image6_3.png (deflated 19%)\n",
            "  adding: Images/image7_1.png (deflated 0%)\n",
            "  adding: Images/image7_2.png (deflated 19%)\n",
            "  adding: Images/image14_1.png (deflated 19%)\n",
            "  adding: Images/image6_2.png (deflated 0%)\n",
            "  adding: Images/image12_1.png (deflated 19%)\n",
            "  adding: Images/image6_1.png (stored 0%)\n",
            "  adding: Images/image5_2.png (deflated 19%)\n",
            "  adding: Images/image13_1.png (deflated 19%)\n",
            "  adding: Images/image9_1.png (deflated 19%)\n",
            "  adding: Images/.ipynb_checkpoints/ (stored 0%)\n",
            "  adding: Images/image3_1.png (deflated 19%)\n",
            "  adding: Images/image4_1.png (deflated 19%)\n",
            "  adding: Images/image1_1.png (deflated 19%)\n",
            "  adding: Images/image5_3.png (deflated 1%)\n",
            "  adding: Images/image2_1.png (deflated 19%)\n",
            "  adding: Images/image5_1.png (deflated 0%)\n",
            "  adding: Images/image6_4.png (stored 0%)\n",
            "  adding: Images/image7_3.png (deflated 0%)\n",
            "  adding: Images/image11_1.png (deflated 19%)\n",
            "  adding: Images/image10_1.png (deflated 19%)\n",
            "  adding: Images/image8_1.png (deflated 19%)\n"
          ]
        }
      ]
    },
    {
      "cell_type": "code",
      "metadata": {
        "id": "GF0psMEd6qed"
      },
      "source": [
        "from google.colab import files\n",
        "files.download(\"/content/Images_To_Zip/Images.zip\")"
      ],
      "execution_count": null,
      "outputs": []
    }
  ]
}